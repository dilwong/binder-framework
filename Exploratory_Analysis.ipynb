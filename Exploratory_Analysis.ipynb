{
 "cells": [
  {
   "cell_type": "markdown",
   "metadata": {},
   "source": [
    "# 12-Day Program Milestone Project"
   ]
  },
  {
   "cell_type": "code",
   "execution_count": 1,
   "metadata": {},
   "outputs": [],
   "source": [
    "import numpy as np\n",
    "import pandas as pd\n",
    "import matplotlib.pyplot as plt"
   ]
  },
  {
   "cell_type": "code",
   "execution_count": 2,
   "metadata": {},
   "outputs": [],
   "source": [
    "df = pd.read_csv('Value_of_Energy_Cost_Savings_Program_Savings_for_Businesses_-_FY2020.csv')"
   ]
  },
  {
   "cell_type": "code",
   "execution_count": 3,
   "metadata": {},
   "outputs": [
    {
     "data": {
      "text/html": [
       "<div>\n",
       "<style scoped>\n",
       "    .dataframe tbody tr th:only-of-type {\n",
       "        vertical-align: middle;\n",
       "    }\n",
       "\n",
       "    .dataframe tbody tr th {\n",
       "        vertical-align: top;\n",
       "    }\n",
       "\n",
       "    .dataframe thead th {\n",
       "        text-align: right;\n",
       "    }\n",
       "</style>\n",
       "<table border=\"1\" class=\"dataframe\">\n",
       "  <thead>\n",
       "    <tr style=\"text-align: right;\">\n",
       "      <th></th>\n",
       "      <th>Company Name</th>\n",
       "      <th>company contact</th>\n",
       "      <th>company email</th>\n",
       "      <th>company phone</th>\n",
       "      <th>Address</th>\n",
       "      <th>City</th>\n",
       "      <th>State</th>\n",
       "      <th>Postcode</th>\n",
       "      <th>Industry</th>\n",
       "      <th>Industry descr</th>\n",
       "      <th>...</th>\n",
       "      <th>Savings from beginning receiving benefits</th>\n",
       "      <th>Borough</th>\n",
       "      <th>Latitude</th>\n",
       "      <th>Longitude</th>\n",
       "      <th>Community Board</th>\n",
       "      <th>Council District</th>\n",
       "      <th>Census Tract</th>\n",
       "      <th>BIN</th>\n",
       "      <th>BBL</th>\n",
       "      <th>NTA</th>\n",
       "    </tr>\n",
       "  </thead>\n",
       "  <tbody>\n",
       "    <tr>\n",
       "      <th>0</th>\n",
       "      <td>1 State Street</td>\n",
       "      <td>David Neiburg</td>\n",
       "      <td>eskoblo@energyspec.com</td>\n",
       "      <td>7186779077</td>\n",
       "      <td>1114 Avenue J</td>\n",
       "      <td>Brooklyn</td>\n",
       "      <td>NY</td>\n",
       "      <td>11230</td>\n",
       "      <td>Commercial</td>\n",
       "      <td>35 story building</td>\n",
       "      <td>...</td>\n",
       "      <td>349.78</td>\n",
       "      <td>Brooklyn</td>\n",
       "      <td>40.624784</td>\n",
       "      <td>-73.964920</td>\n",
       "      <td>314.0</td>\n",
       "      <td>44.0</td>\n",
       "      <td>534.0</td>\n",
       "      <td>3179818.0</td>\n",
       "      <td>3.067130e+09</td>\n",
       "      <td>Midwood</td>\n",
       "    </tr>\n",
       "    <tr>\n",
       "      <th>1</th>\n",
       "      <td>100 Church LLC</td>\n",
       "      <td>Edward A. Carroll</td>\n",
       "      <td>NaN</td>\n",
       "      <td>2125663000</td>\n",
       "      <td>100 Church Street</td>\n",
       "      <td>NY</td>\n",
       "      <td>NY</td>\n",
       "      <td>10007</td>\n",
       "      <td>Commercial</td>\n",
       "      <td>21 Floors</td>\n",
       "      <td>...</td>\n",
       "      <td>4423698.05</td>\n",
       "      <td>New York</td>\n",
       "      <td>40.712968</td>\n",
       "      <td>-74.009490</td>\n",
       "      <td>101.0</td>\n",
       "      <td>1.0</td>\n",
       "      <td>21.0</td>\n",
       "      <td>1001409.0</td>\n",
       "      <td>1.001250e+09</td>\n",
       "      <td>SoHo-TriBeCa-Civic Center-Little Italy</td>\n",
       "    </tr>\n",
       "    <tr>\n",
       "      <th>2</th>\n",
       "      <td>100 Wall Investments</td>\n",
       "      <td>Jerry Branam</td>\n",
       "      <td>NaN</td>\n",
       "      <td>2122487160</td>\n",
       "      <td>96 Wall Street</td>\n",
       "      <td>New York</td>\n",
       "      <td>NY</td>\n",
       "      <td>10005</td>\n",
       "      <td>Landlord</td>\n",
       "      <td>NaN</td>\n",
       "      <td>...</td>\n",
       "      <td>1814542.62</td>\n",
       "      <td>New York</td>\n",
       "      <td>40.705052</td>\n",
       "      <td>-74.007199</td>\n",
       "      <td>101.0</td>\n",
       "      <td>1.0</td>\n",
       "      <td>7.0</td>\n",
       "      <td>1000875.0</td>\n",
       "      <td>1.000380e+09</td>\n",
       "      <td>Battery Park City-Lower Manhattan</td>\n",
       "    </tr>\n",
       "    <tr>\n",
       "      <th>3</th>\n",
       "      <td>1-10 Bush Terminal Owner LP</td>\n",
       "      <td>Andrew Kimball</td>\n",
       "      <td>akimball@industrycity.com</td>\n",
       "      <td>3474178429</td>\n",
       "      <td>220 36th St, Suite 2A</td>\n",
       "      <td>Brooklyn</td>\n",
       "      <td>NY</td>\n",
       "      <td>11232</td>\n",
       "      <td>Landlord</td>\n",
       "      <td>Special Eligible Premises for eligible businesses</td>\n",
       "      <td>...</td>\n",
       "      <td>6755.31</td>\n",
       "      <td>Brooklyn</td>\n",
       "      <td>40.656061</td>\n",
       "      <td>-74.007334</td>\n",
       "      <td>307.0</td>\n",
       "      <td>38.0</td>\n",
       "      <td>2.0</td>\n",
       "      <td>3398687.0</td>\n",
       "      <td>3.006950e+09</td>\n",
       "      <td>Sunset Park West</td>\n",
       "    </tr>\n",
       "    <tr>\n",
       "      <th>4</th>\n",
       "      <td>120 Broadway Acquisitions JV, LLC (Ldmk)</td>\n",
       "      <td>Carl Letich</td>\n",
       "      <td>clettich@silvprop.com</td>\n",
       "      <td>2124064020</td>\n",
       "      <td>120 Broadway</td>\n",
       "      <td>New York</td>\n",
       "      <td>NY</td>\n",
       "      <td>10271</td>\n",
       "      <td>Commercial</td>\n",
       "      <td>NaN</td>\n",
       "      <td>...</td>\n",
       "      <td>3293055.08</td>\n",
       "      <td>New York</td>\n",
       "      <td>40.708546</td>\n",
       "      <td>-74.011041</td>\n",
       "      <td>101.0</td>\n",
       "      <td>1.0</td>\n",
       "      <td>7.0</td>\n",
       "      <td>1001026.0</td>\n",
       "      <td>1.000478e+09</td>\n",
       "      <td>Battery Park City-Lower Manhattan</td>\n",
       "    </tr>\n",
       "  </tbody>\n",
       "</table>\n",
       "<p>5 rows × 26 columns</p>\n",
       "</div>"
      ],
      "text/plain": [
       "                               Company Name    company contact  \\\n",
       "0                            1 State Street      David Neiburg   \n",
       "1                            100 Church LLC  Edward A. Carroll   \n",
       "2                      100 Wall Investments       Jerry Branam   \n",
       "3               1-10 Bush Terminal Owner LP     Andrew Kimball   \n",
       "4  120 Broadway Acquisitions JV, LLC (Ldmk)        Carl Letich   \n",
       "\n",
       "               company email company phone                Address      City  \\\n",
       "0     eskoblo@energyspec.com    7186779077          1114 Avenue J  Brooklyn   \n",
       "1                        NaN    2125663000      100 Church Street        NY   \n",
       "2                        NaN    2122487160         96 Wall Street  New York   \n",
       "3  akimball@industrycity.com    3474178429  220 36th St, Suite 2A  Brooklyn   \n",
       "4      clettich@silvprop.com    2124064020           120 Broadway  New York   \n",
       "\n",
       "  State  Postcode    Industry  \\\n",
       "0    NY     11230  Commercial   \n",
       "1    NY     10007  Commercial   \n",
       "2    NY     10005    Landlord   \n",
       "3    NY     11232    Landlord   \n",
       "4    NY     10271  Commercial   \n",
       "\n",
       "                                      Industry descr  ...  \\\n",
       "0                                  35 story building  ...   \n",
       "1                                          21 Floors  ...   \n",
       "2                                                NaN  ...   \n",
       "3  Special Eligible Premises for eligible businesses  ...   \n",
       "4                                                NaN  ...   \n",
       "\n",
       "  Savings from beginning receiving benefits   Borough   Latitude  Longitude  \\\n",
       "0                                    349.78  Brooklyn  40.624784 -73.964920   \n",
       "1                                4423698.05  New York  40.712968 -74.009490   \n",
       "2                                1814542.62  New York  40.705052 -74.007199   \n",
       "3                                   6755.31  Brooklyn  40.656061 -74.007334   \n",
       "4                                3293055.08  New York  40.708546 -74.011041   \n",
       "\n",
       "  Community Board  Council District  Census Tract        BIN           BBL  \\\n",
       "0           314.0              44.0         534.0  3179818.0  3.067130e+09   \n",
       "1           101.0               1.0          21.0  1001409.0  1.001250e+09   \n",
       "2           101.0               1.0           7.0  1000875.0  1.000380e+09   \n",
       "3           307.0              38.0           2.0  3398687.0  3.006950e+09   \n",
       "4           101.0               1.0           7.0  1001026.0  1.000478e+09   \n",
       "\n",
       "                                      NTA  \n",
       "0                                 Midwood  \n",
       "1  SoHo-TriBeCa-Civic Center-Little Italy  \n",
       "2       Battery Park City-Lower Manhattan  \n",
       "3                        Sunset Park West  \n",
       "4       Battery Park City-Lower Manhattan  \n",
       "\n",
       "[5 rows x 26 columns]"
      ]
     },
     "execution_count": 3,
     "metadata": {},
     "output_type": "execute_result"
    }
   ],
   "source": [
    "df.head()"
   ]
  },
  {
   "cell_type": "code",
   "execution_count": 4,
   "metadata": {},
   "outputs": [
    {
     "name": "stdout",
     "output_type": "stream",
     "text": [
      "<class 'pandas.core.frame.DataFrame'>\n",
      "RangeIndex: 450 entries, 0 to 449\n",
      "Data columns (total 26 columns):\n",
      " #   Column                                     Non-Null Count  Dtype  \n",
      "---  ------                                     --------------  -----  \n",
      " 0   Company Name                               450 non-null    object \n",
      " 1   company contact                            450 non-null    object \n",
      " 2   company email                              433 non-null    object \n",
      " 3   company phone                              450 non-null    object \n",
      " 4   Address                                    450 non-null    object \n",
      " 5   City                                       450 non-null    object \n",
      " 6   State                                      450 non-null    object \n",
      " 7   Postcode                                   450 non-null    int64  \n",
      " 8   Industry                                   450 non-null    object \n",
      " 9   Industry descr                             434 non-null    object \n",
      " 10  Company Type                               450 non-null    object \n",
      " 11  Current fulltime                           446 non-null    float64\n",
      " 12  Job created                                11 non-null     float64\n",
      " 13  Job retain                                 14 non-null     float64\n",
      " 14  Effective Date                             450 non-null    object \n",
      " 15  Total Savings                              450 non-null    float64\n",
      " 16  Savings from beginning receiving benefits  450 non-null    float64\n",
      " 17  Borough                                    450 non-null    object \n",
      " 18  Latitude                                   409 non-null    float64\n",
      " 19  Longitude                                  409 non-null    float64\n",
      " 20  Community Board                            409 non-null    float64\n",
      " 21  Council District                           409 non-null    float64\n",
      " 22  Census Tract                               409 non-null    float64\n",
      " 23  BIN                                        401 non-null    float64\n",
      " 24  BBL                                        401 non-null    float64\n",
      " 25  NTA                                        409 non-null    object \n",
      "dtypes: float64(12), int64(1), object(13)\n",
      "memory usage: 91.5+ KB\n"
     ]
    }
   ],
   "source": [
    "df.info()"
   ]
  },
  {
   "cell_type": "markdown",
   "metadata": {},
   "source": [
    "## How many different companies are represented in the data set?"
   ]
  },
  {
   "cell_type": "code",
   "execution_count": 5,
   "metadata": {},
   "outputs": [
    {
     "name": "stdout",
     "output_type": "stream",
     "text": [
      "['1 State Street' '100 Church LLC' '100 Wall Investments'\n",
      " '1-10 Bush Terminal Owner LP' '120 Broadway Acquisitions JV, LLC (Ldmk)'\n",
      " '120 Wall Street, LLC' '139 ACA Realty, Inc.'\n",
      " '141 Lake Avenue Realty c/o JR Produce, Inc.' '14-10 123rd Street LLC'\n",
      " '183 Lorriane Street LLC' '195 Broadway, LLC' '2 Rector Street (NY) LLC'\n",
      " '21st Century Optics, Inc.' '25 Broadway (Ldmk)' '4Over4.com'\n",
      " '538-540 West 35 Corp' '55 Water, LLC' '72andSunny Partners LLC'\n",
      " '75 Broad Street' 'A & L Scientific Corp.' 'A.K.S. International, Inc'\n",
      " 'ABEL CINE TECH, INC.' 'ABIGAL PRESS, INC.' 'Accenture LLP'\n",
      " 'Achieve Beyond, Inc. (Formerly Bilinguals, Inc.)'\n",
      " 'Action Carting Environmental Services, Inc' 'ADP Oak Point LLC'\n",
      " 'AECOM Technical Services Inc' 'Aesthetonics, Inc.'\n",
      " 'AFC INDUSTRIES, INC.' 'African Services Committee, Inc.'\n",
      " 'Aids Vaccine Advocacy Coalition' 'ALADDIN BAKERS, INC/Bread Head, LLC.'\n",
      " 'Albert Einstein College of Medicine R&D' 'Alchemy Paintworks LLC'\n",
      " 'All City Metal, Inc.' 'ALLE PROCESSING CORP.'\n",
      " 'ALLIED SAMPLE CARDS CO., INC.' 'Allison Eden Studios'\n",
      " 'Allstate Medical Supplies LLC' 'ALRUE IMPORT COPR.'\n",
      " 'Amazon Corporate LLC' 'American Bridge Company'\n",
      " 'American Folk Art Museum' 'American Torque, Inc.'\n",
      " 'American Transit Insurance Co' 'AMY SCHERBER, INC.' 'ANHEUSER BUSH'\n",
      " 'Apex Logistics International (JFK), Inc' 'Apple Bank for Savings'\n",
      " 'Approved Oil Co. of Brooklyn, Inc.' 'APTHORP CLEANERS, INC.'\n",
      " 'Arista Coffee, Inc.' 'Armada New York LLC' 'ARROW LINEN SUPPLY CO.'\n",
      " 'Asymptote Architecture, PLLC' 'B. Thayer Associates'\n",
      " 'B.C.S. International Corporation' 'B.P. AIR CONDITIONING CORP/'\n",
      " 'BACO ENTERPRISES, INC.' 'BALDOR SPECIALTY FOOD'\n",
      " 'BANNER SMOKED FISH, INC.' 'BARK FRAMEWORKS, INC.'\n",
      " 'BARONE STEEL FABRICATORS, INC.' 'Barry X. Ball Studio, Inc.'\n",
      " 'BCGA Concept Corporation' 'Belmont Metals' 'BENSON MILLS, INC.'\n",
      " 'Bermuda Motor Car Renting Co.' 'BEST CASE & ACCESSORIES, INC.'\n",
      " 'Best Choice Trading Corp' 'Best Mounting Corp.' 'Bestec Concept, Inc.'\n",
      " 'Bigheavy Studios' 'BILLIE-ANN PLASTICS PKGING CORP' \"BIMMY'S LLC\"\n",
      " 'Birns Telecommunication, Inc.' 'Bjork Carle Woodworking, Inc.'\n",
      " 'Blumberg Excelsior, Inc.' 'Bo Bo Poultry Market, Inc.'\n",
      " 'BoyceTechnologies, Inc.' 'Breuckelen Distilling Co., Inc.'\n",
      " 'BRIDGE PLAZA ASSOCIATES LLC' 'Bronx River Media Group, LLC'\n",
      " 'Bronx Westchester Tempering, Inc' 'Brooklyn Immuno Therapeutics LLC'\n",
      " 'Brooklyn Nets' 'BROOKLYN UNION GAS COMPANY'\n",
      " 'Brooklyn Wholesale Bakery LLC' 'Brunetti & Brunetti LLC' 'Burden, LLC'\n",
      " 'CAMEO METAL PRODUCTS, INC.' 'Caples Jefferson Architects, PC'\n",
      " 'Carlton House Restoration, Inc.' 'CARNEGIE LINEN SERVICES, INC.'\n",
      " 'Casual Films, Inc.' 'CAVCO ROOFING, INC.' 'Chase Bank, N.A.'\n",
      " 'Chelsea Plastics Corp/Plexi-Craft Quality Products'\n",
      " \"Christie's Fine Art Storage Services, Inc\" \"Christie's Inc.\"\n",
      " 'Citibank, N.A.' 'City Baking LLC aka Bakery City LLC'\n",
      " 'CN MANAGEMENT LLC' 'Collins Building Services, Inc.' 'COMFORT BEDDING'\n",
      " 'Comp Trading LLC' 'Computer Services Group, Inc.' 'Concept Farm, Inc.'\n",
      " 'Constitution Realty LLC (Ldmk)' 'COOL WIND VENTILATION CORP.'\n",
      " 'CORONET PARTS MANUFACTURING CO. INC' 'COSMOS COMMUNICATIONS'\n",
      " 'Cotronics Corporation' 'Crepini, LLC' 'Crystal Lake Trading, Inc.'\n",
      " 'Cyracom International, Inc.' 'D.C. CENTER CORP' 'D.S. & Durga LLC'\n",
      " 'DAIRYLAND USA CORP.' 'Daniel Scuderi' 'Dart Medical Labortory, Inc.'\n",
      " 'Dasny Mechanical Inc.' 'DBAB Wall Street, LLC.' 'DCD Marketing Ltd.'\n",
      " 'Deep Draw Silver, Inc.' 'Delvi Realty Corp.' 'DEPOSITORY TRUST COMPANY'\n",
      " 'Deutsche Bank Securities, Inc.' 'DI DOMENICO & PARTNERS LLP'\n",
      " 'DIAMOND STREET PROPERTIES' 'Dinas Distribution Corp.'\n",
      " 'Down East & Seafood, Inc.' 'Dr. Smood New York Production LLC'\n",
      " 'Duce Construction Corp.' 'Dundy Glass & Mirror Corp.' 'DURA FOAM, INC.'\n",
      " 'E&C Property Holdings South, Inc.' 'E. J. York, Inc.'\n",
      " 'East Coast Envelope & Graphics, LLC' 'EASTERN CONCEPTS, INC.'\n",
      " 'Eastern Effects, Inc.' 'Eastern Plating, Inc.'\n",
      " 'Eclectic/Encore Properties, Inc.' 'EDISON PRICE, INC.' 'EMG Media, Inc.'\n",
      " 'Empress Media, Inc.' 'Epic Pharma LLC' 'Estee Lauder Companies, Inc'\n",
      " 'Evergreen 105 LLC' 'EverGreene Architectural Arts, Inc.'\n",
      " 'Export Trade of America, Inc.' 'E-Z Ink, Inc.' 'Fairway Bakery LLC'\n",
      " \"FALCONE'S COOKIELAND, LTD.\" 'FAT WITCH BAKERY, INC.'\n",
      " 'Faviana International Inc' 'FAVORITE PLASTICS CO., INC.'\n",
      " 'Fay Da Manufacturing Corp.' 'FEDERAL EXPRESS'\n",
      " 'Fidelity Payment Services Ltd.' 'First United Distribution Corp.'\n",
      " 'Food Saver, New York, Inc.' 'FoodFest Depot LLC'\n",
      " 'FOREST CITY PIERREPONT ASSOCIATES' 'Foster Reeve & Associates, Inc.'\n",
      " 'Franke Gottsegen & Cox Architect.' 'FRED GELLER ELECTRICAL, INC.'\n",
      " 'FRESH DIRECT LLC' 'G & G Manhattan Fruitier, Inc.'\n",
      " 'Gailer Stamping & Die Cutting, LLC' 'GBW LLC' 'gCreate LLC'\n",
      " 'Global Container Terminal (GCT) New York LP' 'Globus Cork, Inc.'\n",
      " 'Goldstein Capital Corp' 'Gotham Greens Gowanus LLC'\n",
      " 'GOTHAM SEAFOOD CORP.' 'GOURMET BOUTIQUE LLC'\n",
      " 'Graf & Lewent Architects LLP' 'Graham Windham Organization'\n",
      " 'GRAND MERIDIAN PRINTINGS, INC.' 'Grandstand Sports & Memorabilia, Inc.'\n",
      " 'Greenfelds LLC' 'Greenpoint Avenue Realty LLC' 'GREENPOINT GROUP, LLC'\n",
      " 'Grimm Ales LLC' 'Gustav Restoration LLC' 'HALE & HEARTY SOUPS, LLC'\n",
      " 'Hall Street Storage LLC' 'HALMARK ARCHITECTUAL FINISHING'\n",
      " 'HALO  Recognition, Inc' 'Harry Brainum Jr., Inc.'\n",
      " 'HEINSEN PRODUCTS, INC.' 'HERCULES HEAT TREATING CORPORATION,'\n",
      " 'HI INTERIORS, INC.' 'Hi Tech Metals, Inc.' 'Highline Locations LLC'\n",
      " 'Hindustan Granites, Inc.' 'HIRD/BLAKER, INC.'\n",
      " 'HI-TECH RESOURCE RECOVERY' 'House of Spices (India), Inc'\n",
      " 'Hudson Moving & Storage Co., Inc.' 'HUSH Studios, Inc.' 'Hydromx, Inc.'\n",
      " 'I. AM. Malia Mills, LLC' 'Ideas by Barbara'\n",
      " 'IDL Communications and Electric, Inc' 'IEH CORPORATION'\n",
      " 'Ikea Holding U.S., Inc.' 'Inner Gaze Furniture Designs, Inc.'\n",
      " 'Insek Design' 'Iron Mountain' 'J & B Realty LLC'\n",
      " 'J & J Johnson General Contracting Co., Inc.' 'J&S LICATA BROTHERS, INC'\n",
      " 'J. Crew Group, Inc.' 'Jacques Torres Manufacturing LLC'\n",
      " 'JAMES CARPENTER DESIGN ASSOC., INC.' 'JANUS MANAGEMENT, INC.'\n",
      " 'Japanese Food Depot LLC' 'JDB Market Corp.' 'JetBlue Airways, Corp.'\n",
      " 'Jetro Cash & Carry Enterprises LLC' 'Jewels For Me, Inc.'\n",
      " 'Johnson Ingraham Associates' 'Josiah McElheny Studio'\n",
      " 'JPR Mechanical Inc.' 'JUST BAGELS/ NORDQUIST ENTERPRISES'\n",
      " 'K Line Logistics (USA) Inc' 'K M S CONTRACTING INC dba Sure Iron Works'\n",
      " 'K. K. Machine Company, Inc.' 'Karr Graphics Corp.'\n",
      " 'KAS PRODUCTION CENTER LLC' 'Katiroll Company LLC, The'\n",
      " 'KAUFMAN Astoria Studios' 'KEPCO, INC.' 'Kickstarter, PBC'\n",
      " 'Kingsland 359 LLC' 'Kintetsu World Express (U.S.A.), Inc.'\n",
      " 'Kleins Naturals Ltd.' 'KONG KEE REALTY CORP'\n",
      " 'Kopelevich & Feldsherova, PC' 'Krasnyi Oktybar, Inc.'\n",
      " 'KRINOS FOODS, INC.' 'LaFarge North America' 'Lafayette 148, Inc'\n",
      " 'LAFAYETTE GRINDING CORP.' 'LEE SPRINGS COMPANY' 'Leemor Lilly, LLC'\n",
      " 'Lida Collection, Inc.' 'Liquid 8 Technology, Inc.' 'Liquid Knits, Inc.'\n",
      " 'Livestream LLC' 'Lobonav Corp' 'Long Island Concrete, Inc.'\n",
      " \"M & R CPA's LLP\" 'M. SLAVIN & SONS, LTD.'\n",
      " 'Mack Glassnauth Iron Works, Inc.' 'MADAME PAULETTE, LIC, LLC'\n",
      " 'MADELAINE CHOCOLATE NOVELTIES, INC.' 'Magellan Aerospace New York, Inc'\n",
      " 'Marathon Energy Corp' \"Maribel's Sweets, Inc.\" 'Maric Mechanical Inc.'\n",
      " 'Marina Ice Cream Corp.' 'MARJAM SUPPLY CO., INC.'\n",
      " 'Matros Automated Electrical Const.' 'McInnis USA Inc.'\n",
      " 'Mechoshade Systems, Inc.' 'MEDITERRANEAN GYRO PRODUCTS'\n",
      " 'Mesorah Publications, Ltd & Sefercraft, Inc' 'Michael C. Fina Co, Inc'\n",
      " 'MKJ Communications, Inc' 'Modern Windor & Door, Inc.'\n",
      " 'MONDIAL AUTOMOTIVE, INC.' 'MONTEBELLO FOOD CORP'\n",
      " 'Montefiore Medical Center' 'Music Arhive Collection LLC Floor 2 and 3'\n",
      " 'MYT Works, Inc' 'National Acoustics, Inc.' 'National Bias Binding Corp.'\n",
      " 'National Leather and Shoe Findings Co.' 'Natuzzi Bros Ice Co, Inc'\n",
      " 'Neighborhood Eigth Avenue LLC' \"Neuman's Kitchen\"\n",
      " 'New Concepts of NY LLC' 'New Heydenryk, LLC'\n",
      " 'NEW PALACE PAINTERS SUPPLY CO., INC.' 'New Water Street  Corp'\n",
      " 'NEW YORK BLOOD CENTER'\n",
      " 'New York Digital Color Lithographers Printers, Inc' 'New York Fragrance'\n",
      " 'New York Insulation, Inc.' 'NEW YORKER WHOLESALE BAGELS, INC.'\n",
      " 'Noho Health, Inc' 'Nova Offset Corp' 'Novare LLC'\n",
      " 'NOVELTY CRYSTAL CORP.' 'Novo Arts Associates, Inc.' 'NULUX INDUSTRIES'\n",
      " 'NY Telephone #11194' 'Octopus Garden, Inc/Octopus Two Corp'\n",
      " 'Office 118 Equities LLC' 'Oh Nuts Warehousing, Inc.'\n",
      " 'One Girl Cookies, Ltd.' 'Other Half Brewing, Co,' 'Oven Artisans,  Inc.'\n",
      " \"Pain D'Avignon III Ltd.\" 'Paper Enterprises, Inc.'\n",
      " 'Parallel Development Ltd.' 'Parkway Equipment Handlers, Inc.'\n",
      " 'Parsons-Meares Ltd.' 'PEERLESS IMPORTERS, INC.' 'Pelican Bay Ltd.'\n",
      " 'PEPSI COLA BOTTLING CO., OF NY' 'PetCare Rx., Inc.' 'Phoenix Beverage'\n",
      " 'Picasso/Hoops, I Love New York LLC' 'Picture Farm II, LLC'\n",
      " 'Pinto & Teger Electric' 'POOK DIEMONT & OHL, INC.'\n",
      " 'Poster Printers, Inc.' 'Postmeds, Inc.' 'Premium Millwork, Inc.'\n",
      " 'Presentation Products, Inc.' 'Proxima, Inc' 'Quality Casting, Inc.'\n",
      " 'R Simon Design, Inc.' 'Rainbow Plastics, Inc.' 'Rareform Carting, Inc.'\n",
      " 'RDS Delivery Services, Co., Inc.' 'Real Coffee Roasters'\n",
      " 'Red Rabbit LLC' 'Rhonda Feinman Custom Frames, Inc.'\n",
      " 'Richards Plumbing & Heating Co., Inc.' \"ROGELIO'S WAY/DIGITAL LAUNDRY\"\n",
      " 'Rogers Surveying PLLC.' 'Rolex Watch USA, Inc.' 'Rony Elka Vardi, Inc'\n",
      " 'Roxy Paine LLC' 'ROYAL AIRLINE LAUNDRY SERVICES CORP'\n",
      " 'ROYAL DEVELOPMENT, INC.' 'Rufus Corporation'\n",
      " 'RUGUS REALTY, INC. DBA MISS GRIMBLE' 'Russ Ops LLC'\n",
      " 'RWS & Associates Entertainment' 'S&L AEROSPACE METALS LLC'\n",
      " 'Safe Art Sat, Inc.' 'Sculpture House Casting, Inc.' 'SDC Designs LLC'\n",
      " 'Sharan Builders, Inc.' 'Shloms Heimish Corp' 'SIGNS DECAL CORP.'\n",
      " 'SILLY PHILLIE CREATIONS, INC.' 'Silver Hill Atelier, LLC'\n",
      " 'SILVERCUP Services LLC' 'Silverman Ceramics, LLC/Alsio Design, LLC'\n",
      " 'SIM Digital New York' 'Simone Management Group, Inc.'\n",
      " \"SIMON''S HARDWARE\" 'Sizzal, LLC'\n",
      " 'Sky High Murals - Colossal Media, Inc.' 'Skyline Restoration, Inc.'\n",
      " 'Skyline Windows, LLC' 'SoHarlem  Inc.' 'Spaeth Design, Inc.' 'Spectrum'\n",
      " 'Spin Master, Inc.' 'Square Roots Urban Growers, Inc.' 'SSJ Contracting'\n",
      " 'SSP America, Inc.' 'STALLION, INC.' 'Stand And Build LLC'\n",
      " 'StinkDigital USA LLC' 'Studio UG' 'Sunset Park Farm LLC'\n",
      " \"SWEET SAM'S BAKING CO., LLC\" 'T & M Richardson Street LLC'\n",
      " 'T & Z Properties LLC' 'TECHNICAL LIBRARY SERVICE, INC.' 'TEI Group'\n",
      " 'The Bronx Brewery LLC' 'The Dime Savings Bank of Williamsburg'\n",
      " 'The Gluck Architectural Collaborative, P.C.'\n",
      " 'The Handy Tool & Mfg. Co., Inc.' 'The Lobster Place, Inc.'\n",
      " 'The Woodwrights' 'THEODOSIOU' 'TI Ozone Park Storage LLC'\n",
      " 'TIN SHING REALTY, INC.' 'Ti-Tone Communications, Inc.'\n",
      " 'Toner Quest, Inc.' 'Tracy Watts, Inc.'\n",
      " 'TRANSCONTINENTAL ULTRA FLEX , INC.' 'Transmitter Brewing LLC'\n",
      " 'Treasure Asset Storage LLC' 'Tristate Plumbing Services, Inc.'\n",
      " 'Tropicana Products Sales, Inc.' \"TUFO'S WHOLESALE DAIRY INC.\"\n",
      " 'Twin Marquis, Inc' 'Twoseven Inc.' 'Ulano Corporation'\n",
      " 'ULTRA CREATIVE CORP.' 'United Air Conditioning Corp'\n",
      " 'United Nations Federal Credit Union' 'Uniworld Group Inc.'\n",
      " 'Urban Archaeology, LTD' 'Urban Green LLC'\n",
      " 'USTA NATIONAL TENNIS CENTER, INC.' 'UTC Corporation' 'Valon Realty, LLC'\n",
      " 'Van Blarcom Closures Inc' 'VANBRO CORPORATION' 'VaynerMedia LLC'\n",
      " 'Vera Institute of Justice, Inc.' 'Vernon Lakes Partners'\n",
      " 'VISITING NURSE SERVICE OF NEW YORK' 'VISY PAPER RECYCLING'\n",
      " 'VIVA TIME CORP.' 'W Architecture & Landscape Architecture LLC'\n",
      " 'WALDORF BAKERY, INC. DBA MAURICE' 'WATER LILIES FOOD, INC.'\n",
      " 'WATERMARK DESIGN, LTD.' 'Weapons Specialist Ltd' 'Werwaiss & Co., Inc.'\n",
      " 'WHBI LLC' 'Whipped Pastry Boutique, Inc.' 'White Coffee Corporation'\n",
      " 'WHITEHEAD COMPANY, INC.' 'WIGGBY PRECISION MACHINE CORP.'\n",
      " 'Wild Edibles, Inc.' 'William Hird & Co., Inc.' 'Williams Sonoma, Inc.'\n",
      " 'WONTON FOOD, INC.' 'Wood Works' 'WorldWide Plumbing Supply, Inc.'\n",
      " 'WUD Furniture LLC' 'Wurtec Incorporated']\n"
     ]
    }
   ],
   "source": [
    "with np.printoptions(threshold = np.inf):\n",
    "    print(df['Company Name'].unique())"
   ]
  },
  {
   "cell_type": "code",
   "execution_count": 6,
   "metadata": {},
   "outputs": [
    {
     "name": "stdout",
     "output_type": "stream",
     "text": [
      "There are 439 companies.\n"
     ]
    }
   ],
   "source": [
    "nCompanies = df['Company Name'].nunique()\n",
    "print(f'There are {nCompanies} companies.')"
   ]
  },
  {
   "cell_type": "markdown",
   "metadata": {},
   "source": [
    "## What is the total number of jobs created for businesses in Queens?\n",
    "\n",
    "Here, I assume a null value is 0 jobs created, since the 'Value_of_ECSP_Data_Dictionary.xlsx' document does not give the interpretation of null values.\n",
    "\n",
    "Also, I assume we are interested in 'Queens' in the 'Borough' column.  I don't know how to interpret the 'City' column."
   ]
  },
  {
   "cell_type": "code",
   "execution_count": 7,
   "metadata": {},
   "outputs": [
    {
     "name": "stdout",
     "output_type": "stream",
     "text": [
      "There were 102 jobs created in Queens.\n"
     ]
    }
   ],
   "source": [
    "nJobsCreatedinQueens = int(df[df['Borough'].str.lower() == 'queens']['Job created'].sum())\n",
    "print(f'There were {nJobsCreatedinQueens} jobs created in Queens.')"
   ]
  },
  {
   "cell_type": "markdown",
   "metadata": {},
   "source": [
    "## How many different unique email domains names are there in the data set?"
   ]
  },
  {
   "cell_type": "code",
   "execution_count": 8,
   "metadata": {},
   "outputs": [
    {
     "data": {
      "text/plain": [
       "17"
      ]
     },
     "execution_count": 8,
     "metadata": {},
     "output_type": "execute_result"
    }
   ],
   "source": [
    "# Number of null values\n",
    "df['company email'].isna().sum()"
   ]
  },
  {
   "cell_type": "code",
   "execution_count": 9,
   "metadata": {},
   "outputs": [
    {
     "data": {
      "text/plain": [
       "75         billieannplastics.com\n",
       "87     jgewitrtzbrooklynnets.com\n",
       "187         officegreenfelds.com\n",
       "306    adenovarebiologistics.com\n",
       "419      urbangreenfurniture.com\n",
       "Name: company email, dtype: object"
      ]
     },
     "execution_count": 9,
     "metadata": {},
     "output_type": "execute_result"
    }
   ],
   "source": [
    "# Malformed emails\n",
    "df[df['company email'].str.split('@').str.len().fillna(2) != 2]['company email']"
   ]
  },
  {
   "cell_type": "code",
   "execution_count": 10,
   "metadata": {},
   "outputs": [
    {
     "name": "stdout",
     "output_type": "stream",
     "text": [
      "There are 355 unique email domains.\n"
     ]
    }
   ],
   "source": [
    "nDomains = df['company email'].str.extract(r'^[^@]+@(.+\\..+)$').squeeze().str.lower().nunique(dropna = True)\n",
    "print(f'There are {nDomains} unique email domains.')"
   ]
  },
  {
   "cell_type": "code",
   "execution_count": 11,
   "metadata": {},
   "outputs": [
    {
     "name": "stdout",
     "output_type": "stream",
     "text": [
      "356\n",
      "['mikeb@hydromx']\n"
     ]
    }
   ],
   "source": [
    "#Note that the following solution:\n",
    "print(df['company email'].str.split('@').str[1].str.lower().nunique(dropna = True))\n",
    "# doesn't work because it contains another malformed email:\n",
    "print(df[df['company email'].str.contains('hydr',na=False)]['company email'].values)"
   ]
  },
  {
   "cell_type": "markdown",
   "metadata": {},
   "source": [
    "## Considering only NTAs with at least 5 listed businesses, what is the average total savings and the total jobs created for each NTA?"
   ]
  },
  {
   "cell_type": "code",
   "execution_count": 12,
   "metadata": {},
   "outputs": [
    {
     "name": "stdout",
     "output_type": "stream",
     "text": [
      "                                                  Total Savings  Job created\n",
      "NTA                                                                         \n",
      "Battery Park City-Lower Manhattan                 469890.796667          0.0\n",
      "Bushwick South                                     26140.455000         10.0\n",
      "Carroll Gardens-Columbia Street-Red Hook           24337.390000          0.0\n",
      "College Point                                      17159.372857          2.0\n",
      "Crown Heights North                                 4036.298889          0.0\n",
      "DUMBO-Vinegar Hill-Downtown Brooklyn-Boerum Hill   59950.340000          0.0\n",
      "East New York                                      48433.093333         15.0\n",
      "East Williamsburg                                  13990.626364          0.0\n",
      "Greenpoint                                          9753.649286          0.0\n",
      "Hunters Point-Sunnyside-West Maspeth               23931.398933          0.0\n",
      "Hunts Point                                        39246.016154         12.0\n",
      "Manhattanville                                      2760.888889          0.0\n",
      "Maspeth                                             6658.283333         10.0\n",
      "Mott Haven-Port Morris                             17843.937857         10.0\n",
      "Queensbridge-Ravenswood-Long Island City           61830.770625          0.0\n",
      "SoHo-TriBeCa-Civic Center-Little Italy             37214.024000          0.0\n",
      "Springfield Gardens South-Brookville               17757.662000          0.0\n",
      "Steinway                                           11227.155714         20.0\n",
      "Sunset Park West                                   14316.976875          0.0\n",
      "park-cemetery-etc-Brooklyn                         14327.419333          0.0\n"
     ]
    }
   ],
   "source": [
    "NTAcounts = df.groupby('NTA')['Company Name'].nunique()\n",
    "NTAsavings = df[df['NTA'].isin(NTAcounts[NTAcounts >= 5].index)].groupby('NTA').agg({'Total Savings': 'mean', 'Job created': 'sum'})\n",
    "# The 'Total Savings' column is the mean total savings, while the 'Job created' column is total jobs created for that NTA.\n",
    "print(NTAsavings)"
   ]
  },
  {
   "cell_type": "code",
   "execution_count": 13,
   "metadata": {},
   "outputs": [],
   "source": [
    "# Save to CSV file\n",
    "NTAsavings.to_csv('meanTotalSavings_and_totalJobsCreated.csv')"
   ]
  }
 ],
 "metadata": {
  "interpreter": {
   "hash": "2120f58c249fcac20c31378f27d1870a8ff710750301219314aa3a4e47db32f3"
  },
  "kernelspec": {
   "display_name": "Python 3 (ipykernel)",
   "language": "python",
   "name": "python3"
  },
  "language_info": {
   "codemirror_mode": {
    "name": "ipython",
    "version": 3
   },
   "file_extension": ".py",
   "mimetype": "text/x-python",
   "name": "python",
   "nbconvert_exporter": "python",
   "pygments_lexer": "ipython3",
   "version": "3.9.7"
  }
 },
 "nbformat": 4,
 "nbformat_minor": 2
}
